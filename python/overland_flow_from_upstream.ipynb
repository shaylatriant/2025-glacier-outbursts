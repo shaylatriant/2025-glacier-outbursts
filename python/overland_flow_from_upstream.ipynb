{
 "cells": [
  {
   "cell_type": "code",
   "execution_count": null,
   "id": "e12a6265-60a0-4463-b720-19a5e483ae5b",
   "metadata": {},
   "outputs": [],
   "source": [
    "# We establish the channel width & upstream position on the grid\n",
    "\n",
    "channel_w = 20. # set channel width, meters\n",
    "channel_center = size_x/(2 * spacing)\n",
    "print(channel_center)\n",
    "\n",
    "channel_diff = channel_w/2\n",
    "\n",
    "num_nodes = size_x * size_y / spacing - 1\n",
    "node_channel_left = int(num_nodes - channel_center - channel_diff)-size_x\n",
    "node_channel_right = int(num_nodes - channel_center + channel_diff)-size_x"
   ]
  },
  {
   "cell_type": "code",
   "execution_count": null,
   "id": "30eb04f6-cab9-44ec-b13d-2ad264f47da7",
   "metadata": {},
   "outputs": [],
   "source": [
    "# We set fixed boundary conditions, specifying the nodes and links in which the water is flowing into the grid\n",
    "inlet_nodes = np.arange(math.floor(node_channel_left), math.ceil(node_channel_right), spacing).astype(int)\n",
    "\n",
    "# We set the fixed values in the entry nodes/links\n",
    "constant_Q = 100. # discharge value; m3/s\n",
    "Q_array = np.ones(len(inlet_nodes)) * constant_Q\n",
    "\n",
    "# We establish the initial conditions for depth (empty)\n",
    "h = grid.add_zeros(\"surface_water__depth\", at=\"node\", clobber=True)\n",
    "\n",
    "# Water velocity is zero in everywhere since there is no water yet\n",
    "vel = grid.add_zeros(\"surface_water__velocity\", at=\"link\", clobber=True)\n",
    "\n",
    "# Calculating the initial water surface elevation from water depth and topographic elevation\n",
    "wse = grid.add_field(\"surface_water__elevation\", Z, at=\"node\", clobber=True)\n",
    "\n",
    "# We set some other values\n",
    "mannings_n = 0.05 # Mannings roughness\n",
    "dt = 10 # Timestep; this is probably defined above/elsewhere\n",
    "\n",
    "# Instantiate the OverlandFlow component to work on this grid and run it\n",
    "of = OverlandFlow(grid, steep_slopes=True)\n",
    "\n",
    "# Give the downward component of each inlet node a discharge corresponding to constant_Q\n",
    "for n in inlet_nodes:\n",
    "    links = grid.links_at_node[n]  #links pointing dow\n",
    "    grid.at_link[\"surface_water__discharge\"][links[3]] = constant_Q\n",
    "\n",
    "# Iterate over time; run the OverlandFlow and refresh the discharge at the inlet\n",
    "for i in range(100):\n",
    "    of.run_one_step()\n",
    "    for n in inlet_nodes:\n",
    "        links = grid.links_at_node[n]  #links pointing down\n",
    "        grid.at_link[\"surface_water__discharge\"][links[3]] = constant_Q\n",
    "\n",
    "grid.imshow('surface_water__depth',cmap=\"Blues\")"
   ]
  }
 ],
 "metadata": {
  "kernelspec": {
   "display_name": "Python 3 (ipykernel)",
   "language": "python",
   "name": "python3"
  },
  "language_info": {
   "codemirror_mode": {
    "name": "ipython",
    "version": 3
   },
   "file_extension": ".py",
   "mimetype": "text/x-python",
   "name": "python",
   "nbconvert_exporter": "python",
   "pygments_lexer": "ipython3",
   "version": "3.10.10"
  }
 },
 "nbformat": 4,
 "nbformat_minor": 5
}
